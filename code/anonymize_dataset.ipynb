{
  "cells": [
    {
      "cell_type": "markdown",
      "metadata": {},
      "source": [
        "# anonymize data\n",
        "\n",
        "This file was used to annonymize data prior to release"
      ]
    },
    {
      "cell_type": "code",
      "execution_count": null,
      "metadata": {
        "id": "mCtNRkGXBY4R"
      },
      "outputs": [],
      "source": [
        "import pandas as pd\n",
        "import os"
      ]
    },
    {
      "cell_type": "code",
      "execution_count": null,
      "metadata": {
        "id": "Mu3tSRSmBuZE"
      },
      "outputs": [],
      "source": [
        "os.makedirs('./anonymized_datasets', exist_ok=True)\n",
        "datasets_folder = './datasets'\n",
        "def anonymize_data(df, unredacted_rows=0):\n",
        "    columns_to_redact = ['Example_A', 'Example_B', 'Example_C', 'Example_D', 'Snippet']\n",
        "    # loop through the columns to redact\n",
        "    for column in columns_to_redact:\n",
        "        if column in df.columns:\n",
        "            # Leave the first `unredacted_rows` rows intact; redact the rest.\n",
        "            df.loc[unredacted_rows:, column] = '<REDACTED>'\n",
        "    return df\n",
        "\n",
        "# anontmize all datasets in the folder\n",
        "for file in os.listdir(datasets_folder):\n",
        "    df = pd.read_csv(f'{datasets_folder}/{file}')\n",
        "    # Set the number of rows to leave unredacted here, e.g., 5.\n",
        "    df = anonymize_data(df, unredacted_rows=5)\n",
        "    df.to_csv(f'./anonymized_datasets/{file}', index=False)\n"
      ]
    }
  ],
  "metadata": {
    "colab": {
      "provenance": []
    },
    "kernelspec": {
      "display_name": "Python 3",
      "name": "python3"
    },
    "language_info": {
      "name": "python"
    }
  },
  "nbformat": 4,
  "nbformat_minor": 0
}
