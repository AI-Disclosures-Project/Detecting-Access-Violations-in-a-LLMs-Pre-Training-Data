{
  "cells": [
    {
      "cell_type": "markdown",
      "metadata": {},
      "source": [
        "# anonymize data"
      ]
    },
    {
      "cell_type": "code",
      "execution_count": 1,
      "metadata": {
        "id": "mCtNRkGXBY4R"
      },
      "outputs": [],
      "source": [
        "import pandas as pd\n",
        "import os\n",
        "import json"
      ]
    },
    {
      "cell_type": "code",
      "execution_count": 3,
      "metadata": {
        "id": "Mu3tSRSmBuZE"
      },
      "outputs": [],
      "source": [
        "import os\n",
        "import pandas as pd\n",
        "\n",
        "os.makedirs('./anonymized_datasets', exist_ok=True)\n",
        "datasets_folder = '/content/drive/MyDrive/oreilly_january/datasets'\n",
        "def anonymize_data(df, unredacted_rows=0):\n",
        "    columns_to_redact = ['Example_A', 'Example_B', 'Example_C', 'Example_D', 'Snippet']\n",
        "    for column in columns_to_redact:\n",
        "        if column in df.columns:\n",
        "            # Leave the first `unredacted_rows` rows intact; redact the rest.\n",
        "            df.loc[unredacted_rows:, column] = '<REDACTED>'\n",
        "    return df\n",
        "\n",
        "for file in os.listdir(datasets_folder):\n",
        "    df = pd.read_csv(f'{datasets_folder}/{file}')\n",
        "    # Set the number of rows to leave unredacted here, e.g., 5.\n",
        "    df = anonymize_data(df, unredacted_rows=5)\n",
        "    df.to_csv(f'./anonymized_datasets/{file}', index=False)\n"
      ]
    }
  ],
  "metadata": {
    "colab": {
      "provenance": []
    },
    "kernelspec": {
      "display_name": "Python 3",
      "name": "python3"
    },
    "language_info": {
      "name": "python"
    }
  },
  "nbformat": 4,
  "nbformat_minor": 0
}
